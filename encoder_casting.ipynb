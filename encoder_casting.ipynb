{
 "cells": [
  {
   "cell_type": "code",
   "execution_count": 6,
   "metadata": {},
   "outputs": [],
   "source": [
    "import keras\n",
    "from keras import layers\n",
    "\n",
    "\n",
    "encoding_dim = 32\n",
    "input_img = keras.Input(shape=(28,28,1))\n",
    "\n",
    "x = layers.Conv2D(16, (3, 3), activation='relu', padding='same')(input_img)\n",
    "x = layers.MaxPooling2D((2, 2), padding='same')(x)\n",
    "x = layers.Conv2D(8, (3, 3), activation='relu', padding='same')(x)\n",
    "x = layers.MaxPooling2D((2, 2), padding='same')(x)\n",
    "x = layers.Conv2D(8, (3, 3), activation='relu', padding='same')(x)\n",
    "encoded = layers.MaxPooling2D((2, 2), padding='same')(x)\n",
    "\n",
    "x = layers.Conv2D(8, (3, 3), activation='relu', padding='same')(encoded)\n",
    "x = layers.UpSampling2D((2, 2))(x)\n",
    "x = layers.Conv2D(8, (3, 3), activation='relu', padding='same')(x)\n",
    "x = layers.UpSampling2D((2, 2))(x)\n",
    "x = layers.Conv2D(16, (3, 3), activation='relu')(x)\n",
    "x = layers.UpSampling2D((2, 2))(x)\n",
    "decoded = layers.Conv2D(1, (3, 3), activation='sigmoid', padding='same')(x)\n",
    "\n",
    "autoencoder = keras.Model(input_img, decoded)\n",
    "autoencoder.compile(optimizer='adam', loss='binary_crossentropy')"
   ]
  },
  {
   "cell_type": "code",
   "execution_count": 7,
   "metadata": {},
   "outputs": [
    {
     "name": "stdout",
     "output_type": "stream",
     "text": [
      "(60000, 28, 28, 1)\n"
     ]
    }
   ],
   "source": [
    "from keras.datasets import mnist\n",
    "import numpy as np\n",
    "\n",
    "(x_train, _), (x_test, _) = mnist.load_data()\n",
    "\n",
    "x_train = x_train.astype('float32') / 255.\n",
    "x_test = x_test.astype('float32')/ 255.\n",
    "x_train = np.reshape(x_train, (len(x_train), 28, 28, 1))\n",
    "x_test = np.reshape(x_test, (len(x_test), 28, 28, 1))\n",
    "\n",
    "print(x_train.shape)"
   ]
  },
  {
   "cell_type": "code",
   "execution_count": 8,
   "metadata": {},
   "outputs": [
    {
     "name": "stdout",
     "output_type": "stream",
     "text": [
      "Epoch 1/50\n"
     ]
    },
    {
     "name": "stderr",
     "output_type": "stream",
     "text": [
      "2023-12-14 16:29:12.239464: I tensorflow/core/grappler/optimizers/custom_graph_optimizer_registry.cc:113] Plugin optimizer for device_type GPU is enabled.\n",
      "loc(\"mps_select\"(\"(mpsFileLoc): /AppleInternal/Library/BuildRoots/495c257e-668e-11ee-93ce-926038f30c31/Library/Caches/com.apple.xbs/Sources/MetalPerformanceShadersGraph/mpsgraph/MetalPerformanceShadersGraph/Core/Files/MPSGraphUtilities.mm\":294:0)): error: 'anec.gain_offset_control' op result #0 must be 4D/5D memref of 16-bit float or 8-bit signed integer or 8-bit unsigned integer values, but got 'memref<128x28x28x1xi1>'\n",
      "loc(\"mps_select\"(\"(mpsFileLoc): /AppleInternal/Library/BuildRoots/495c257e-668e-11ee-93ce-926038f30c31/Library/Caches/com.apple.xbs/Sources/MetalPerformanceShadersGraph/mpsgraph/MetalPerformanceShadersGraph/Core/Files/MPSGraphUtilities.mm\":294:0)): error: 'anec.gain_offset_control' op result #0 must be 4D/5D memref of 16-bit float or 8-bit signed integer or 8-bit unsigned integer values, but got 'memref<128x28x28x1xi1>'\n",
      "loc(\"mps_select\"(\"(mpsFileLoc): /AppleInternal/Library/BuildRoots/495c257e-668e-11ee-93ce-926038f30c31/Library/Caches/com.apple.xbs/Sources/MetalPerformanceShadersGraph/mpsgraph/MetalPerformanceShadersGraph/Core/Files/MPSGraphUtilities.mm\":294:0)): error: 'anec.gain_offset_control' op result #0 must be 4D/5D memref of 16-bit float or 8-bit signed integer or 8-bit unsigned integer values, but got 'memref<128x28x28x1xi1>'\n",
      "loc(\"mps_select\"(\"(mpsFileLoc): /AppleInternal/Library/BuildRoots/495c257e-668e-11ee-93ce-926038f30c31/Library/Caches/com.apple.xbs/Sources/MetalPerformanceShadersGraph/mpsgraph/MetalPerformanceShadersGraph/Core/Files/MPSGraphUtilities.mm\":294:0)): error: 'anec.gain_offset_control' op result #0 must be 4D/5D memref of 16-bit float or 8-bit signed integer or 8-bit unsigned integer values, but got 'memref<128x28x28x1xi1>'\n",
      "loc(\"mps_select\"(\"(mpsFileLoc): /AppleInternal/Library/BuildRoots/495c257e-668e-11ee-93ce-926038f30c31/Library/Caches/com.apple.xbs/Sources/MetalPerformanceShadersGraph/mpsgraph/MetalPerformanceShadersGraph/Core/Files/MPSGraphUtilities.mm\":294:0)): error: 'anec.gain_offset_control' op result #0 must be 4D/5D memref of 16-bit float or 8-bit signed integer or 8-bit unsigned integer values, but got 'memref<128x28x28x1xi1>'\n"
     ]
    },
    {
     "name": "stdout",
     "output_type": "stream",
     "text": [
      "469/469 [==============================] - ETA: 0s - loss: 0.2294"
     ]
    },
    {
     "name": "stderr",
     "output_type": "stream",
     "text": [
      "loc(\"mps_select\"(\"(mpsFileLoc): /AppleInternal/Library/BuildRoots/495c257e-668e-11ee-93ce-926038f30c31/Library/Caches/com.apple.xbs/Sources/MetalPerformanceShadersGraph/mpsgraph/MetalPerformanceShadersGraph/Core/Files/MPSGraphUtilities.mm\":294:0)): error: 'anec.gain_offset_control' op result #0 must be 4D/5D memref of 16-bit float or 8-bit signed integer or 8-bit unsigned integer values, but got 'memref<96x28x28x1xi1>'\n",
      "loc(\"mps_select\"(\"(mpsFileLoc): /AppleInternal/Library/BuildRoots/495c257e-668e-11ee-93ce-926038f30c31/Library/Caches/com.apple.xbs/Sources/MetalPerformanceShadersGraph/mpsgraph/MetalPerformanceShadersGraph/Core/Files/MPSGraphUtilities.mm\":294:0)): error: 'anec.gain_offset_control' op result #0 must be 4D/5D memref of 16-bit float or 8-bit signed integer or 8-bit unsigned integer values, but got 'memref<96x28x28x1xi1>'\n",
      "loc(\"mps_select\"(\"(mpsFileLoc): /AppleInternal/Library/BuildRoots/495c257e-668e-11ee-93ce-926038f30c31/Library/Caches/com.apple.xbs/Sources/MetalPerformanceShadersGraph/mpsgraph/MetalPerformanceShadersGraph/Core/Files/MPSGraphUtilities.mm\":294:0)): error: 'anec.gain_offset_control' op result #0 must be 4D/5D memref of 16-bit float or 8-bit signed integer or 8-bit unsigned integer values, but got 'memref<96x28x28x1xi1>'\n",
      "loc(\"mps_select\"(\"(mpsFileLoc): /AppleInternal/Library/BuildRoots/495c257e-668e-11ee-93ce-926038f30c31/Library/Caches/com.apple.xbs/Sources/MetalPerformanceShadersGraph/mpsgraph/MetalPerformanceShadersGraph/Core/Files/MPSGraphUtilities.mm\":294:0)): error: 'anec.gain_offset_control' op result #0 must be 4D/5D memref of 16-bit float or 8-bit signed integer or 8-bit unsigned integer values, but got 'memref<96x28x28x1xi1>'\n",
      "loc(\"mps_select\"(\"(mpsFileLoc): /AppleInternal/Library/BuildRoots/495c257e-668e-11ee-93ce-926038f30c31/Library/Caches/com.apple.xbs/Sources/MetalPerformanceShadersGraph/mpsgraph/MetalPerformanceShadersGraph/Core/Files/MPSGraphUtilities.mm\":294:0)): error: 'anec.gain_offset_control' op result #0 must be 4D/5D memref of 16-bit float or 8-bit signed integer or 8-bit unsigned integer values, but got 'memref<96x28x28x1xi1>'\n",
      "2023-12-14 16:29:26.299151: I tensorflow/core/grappler/optimizers/custom_graph_optimizer_registry.cc:113] Plugin optimizer for device_type GPU is enabled.\n",
      "loc(\"mps_select\"(\"(mpsFileLoc): /AppleInternal/Library/BuildRoots/495c257e-668e-11ee-93ce-926038f30c31/Library/Caches/com.apple.xbs/Sources/MetalPerformanceShadersGraph/mpsgraph/MetalPerformanceShadersGraph/Core/Files/MPSGraphUtilities.mm\":294:0)): error: 'anec.gain_offset_control' op result #0 must be 4D/5D memref of 16-bit float or 8-bit signed integer or 8-bit unsigned integer values, but got 'memref<128x28x28x1xi1>'\n",
      "loc(\"mps_select\"(\"(mpsFileLoc): /AppleInternal/Library/BuildRoots/495c257e-668e-11ee-93ce-926038f30c31/Library/Caches/com.apple.xbs/Sources/MetalPerformanceShadersGraph/mpsgraph/MetalPerformanceShadersGraph/Core/Files/MPSGraphUtilities.mm\":294:0)): error: 'anec.gain_offset_control' op result #0 must be 4D/5D memref of 16-bit float or 8-bit signed integer or 8-bit unsigned integer values, but got 'memref<128x28x28x1xi1>'\n"
     ]
    },
    {
     "name": "stdout",
     "output_type": "stream",
     "text": [
      "469/469 [==============================] - 15s 26ms/step - loss: 0.2294 - val_loss: 0.1526\n",
      "Epoch 2/50\n",
      "  7/469 [..............................] - ETA: 10s - loss: 0.1491"
     ]
    },
    {
     "name": "stderr",
     "output_type": "stream",
     "text": [
      "loc(\"mps_select\"(\"(mpsFileLoc): /AppleInternal/Library/BuildRoots/495c257e-668e-11ee-93ce-926038f30c31/Library/Caches/com.apple.xbs/Sources/MetalPerformanceShadersGraph/mpsgraph/MetalPerformanceShadersGraph/Core/Files/MPSGraphUtilities.mm\":294:0)): error: 'anec.gain_offset_control' op result #0 must be 4D/5D memref of 16-bit float or 8-bit signed integer or 8-bit unsigned integer values, but got 'memref<16x28x28x1xi1>'\n",
      "loc(\"mps_select\"(\"(mpsFileLoc): /AppleInternal/Library/BuildRoots/495c257e-668e-11ee-93ce-926038f30c31/Library/Caches/com.apple.xbs/Sources/MetalPerformanceShadersGraph/mpsgraph/MetalPerformanceShadersGraph/Core/Files/MPSGraphUtilities.mm\":294:0)): error: 'anec.gain_offset_control' op result #0 must be 4D/5D memref of 16-bit float or 8-bit signed integer or 8-bit unsigned integer values, but got 'memref<16x28x28x1xi1>'\n"
     ]
    },
    {
     "name": "stdout",
     "output_type": "stream",
     "text": [
      "469/469 [==============================] - 12s 25ms/step - loss: 0.1413 - val_loss: 0.1308\n",
      "Epoch 3/50\n",
      "469/469 [==============================] - 12s 26ms/step - loss: 0.1267 - val_loss: 0.1206\n",
      "Epoch 4/50\n",
      "469/469 [==============================] - 12s 25ms/step - loss: 0.1193 - val_loss: 0.1154\n",
      "Epoch 5/50\n",
      "469/469 [==============================] - 12s 25ms/step - loss: 0.1148 - val_loss: 0.1116\n",
      "Epoch 6/50\n",
      "469/469 [==============================] - 12s 25ms/step - loss: 0.1118 - val_loss: 0.1097\n",
      "Epoch 7/50\n",
      "469/469 [==============================] - 12s 26ms/step - loss: 0.1095 - val_loss: 0.1073\n",
      "Epoch 8/50\n",
      "469/469 [==============================] - 12s 26ms/step - loss: 0.1077 - val_loss: 0.1056\n",
      "Epoch 9/50\n",
      "469/469 [==============================] - 12s 25ms/step - loss: 0.1063 - val_loss: 0.1042\n",
      "Epoch 10/50\n",
      "469/469 [==============================] - 12s 25ms/step - loss: 0.1051 - val_loss: 0.1030\n",
      "Epoch 11/50\n",
      "469/469 [==============================] - 12s 26ms/step - loss: 0.1038 - val_loss: 0.1029\n",
      "Epoch 12/50\n",
      "469/469 [==============================] - 12s 25ms/step - loss: 0.1029 - val_loss: 0.1014\n",
      "Epoch 13/50\n",
      "469/469 [==============================] - 12s 25ms/step - loss: 0.1021 - val_loss: 0.1008\n",
      "Epoch 14/50\n",
      "469/469 [==============================] - 12s 25ms/step - loss: 0.1013 - val_loss: 0.0997\n",
      "Epoch 15/50\n",
      "469/469 [==============================] - 12s 26ms/step - loss: 0.1007 - val_loss: 0.1001\n",
      "Epoch 16/50\n",
      "469/469 [==============================] - 12s 25ms/step - loss: 0.1000 - val_loss: 0.0987\n",
      "Epoch 17/50\n",
      "469/469 [==============================] - 12s 25ms/step - loss: 0.0995 - val_loss: 0.0978\n",
      "Epoch 18/50\n",
      "469/469 [==============================] - 12s 25ms/step - loss: 0.0989 - val_loss: 0.0974\n",
      "Epoch 19/50\n",
      "469/469 [==============================] - 12s 26ms/step - loss: 0.0984 - val_loss: 0.0976\n",
      "Epoch 20/50\n",
      "469/469 [==============================] - 12s 25ms/step - loss: 0.0980 - val_loss: 0.0972\n",
      "Epoch 21/50\n",
      "469/469 [==============================] - 12s 26ms/step - loss: 0.0975 - val_loss: 0.0960\n",
      "Epoch 22/50\n",
      "469/469 [==============================] - 12s 25ms/step - loss: 0.0971 - val_loss: 0.0959\n",
      "Epoch 23/50\n",
      "469/469 [==============================] - 12s 25ms/step - loss: 0.0968 - val_loss: 0.0955\n",
      "Epoch 24/50\n",
      "469/469 [==============================] - 12s 25ms/step - loss: 0.0965 - val_loss: 0.0950\n",
      "Epoch 25/50\n",
      "469/469 [==============================] - 12s 25ms/step - loss: 0.0962 - val_loss: 0.0949\n",
      "Epoch 26/50\n",
      "469/469 [==============================] - 12s 25ms/step - loss: 0.0958 - val_loss: 0.0947\n",
      "Epoch 27/50\n",
      "469/469 [==============================] - 12s 25ms/step - loss: 0.0956 - val_loss: 0.0941\n",
      "Epoch 28/50\n",
      "469/469 [==============================] - 12s 25ms/step - loss: 0.0953 - val_loss: 0.0941\n",
      "Epoch 29/50\n",
      "469/469 [==============================] - 12s 25ms/step - loss: 0.0951 - val_loss: 0.0943\n",
      "Epoch 30/50\n",
      "469/469 [==============================] - 12s 25ms/step - loss: 0.0948 - val_loss: 0.0938\n",
      "Epoch 31/50\n",
      "469/469 [==============================] - 12s 25ms/step - loss: 0.0946 - val_loss: 0.0932\n",
      "Epoch 32/50\n",
      "469/469 [==============================] - 12s 25ms/step - loss: 0.0944 - val_loss: 0.0933\n",
      "Epoch 33/50\n",
      "469/469 [==============================] - 12s 25ms/step - loss: 0.0942 - val_loss: 0.0931\n",
      "Epoch 34/50\n",
      "469/469 [==============================] - 12s 25ms/step - loss: 0.0940 - val_loss: 0.0931\n",
      "Epoch 35/50\n",
      "469/469 [==============================] - 12s 25ms/step - loss: 0.0938 - val_loss: 0.0929\n",
      "Epoch 36/50\n",
      "469/469 [==============================] - 12s 25ms/step - loss: 0.0937 - val_loss: 0.0923\n",
      "Epoch 37/50\n",
      "469/469 [==============================] - 12s 25ms/step - loss: 0.0935 - val_loss: 0.0924\n",
      "Epoch 38/50\n",
      "469/469 [==============================] - 12s 25ms/step - loss: 0.0934 - val_loss: 0.0923\n",
      "Epoch 39/50\n",
      "469/469 [==============================] - 12s 25ms/step - loss: 0.0932 - val_loss: 0.0927\n",
      "Epoch 40/50\n",
      "469/469 [==============================] - 12s 25ms/step - loss: 0.0931 - val_loss: 0.0921\n",
      "Epoch 41/50\n",
      "469/469 [==============================] - 12s 25ms/step - loss: 0.0930 - val_loss: 0.0920\n",
      "Epoch 42/50\n",
      "469/469 [==============================] - 12s 25ms/step - loss: 0.0928 - val_loss: 0.0916\n",
      "Epoch 43/50\n",
      "469/469 [==============================] - 12s 25ms/step - loss: 0.0928 - val_loss: 0.0917\n",
      "Epoch 44/50\n",
      "469/469 [==============================] - 12s 25ms/step - loss: 0.0927 - val_loss: 0.0915\n",
      "Epoch 45/50\n",
      "469/469 [==============================] - 12s 25ms/step - loss: 0.0925 - val_loss: 0.0914\n",
      "Epoch 46/50\n",
      "469/469 [==============================] - 12s 25ms/step - loss: 0.0924 - val_loss: 0.0915\n",
      "Epoch 47/50\n",
      "469/469 [==============================] - 12s 25ms/step - loss: 0.0922 - val_loss: 0.0912\n",
      "Epoch 48/50\n",
      "469/469 [==============================] - 12s 25ms/step - loss: 0.0922 - val_loss: 0.0912\n",
      "Epoch 49/50\n",
      "469/469 [==============================] - 12s 25ms/step - loss: 0.0921 - val_loss: 0.0910\n",
      "Epoch 50/50\n",
      "469/469 [==============================] - 12s 25ms/step - loss: 0.0920 - val_loss: 0.0910\n"
     ]
    },
    {
     "data": {
      "text/plain": [
       "<keras.callbacks.History at 0x29b7f47c0>"
      ]
     },
     "execution_count": 8,
     "metadata": {},
     "output_type": "execute_result"
    }
   ],
   "source": [
    "from keras.callbacks import TensorBoard\n",
    "\n",
    "autoencoder.fit(x_train, x_train,\n",
    "                epochs=50,\n",
    "                batch_size=128,\n",
    "                shuffle=True,\n",
    "                validation_data=(x_test, x_test),\n",
    "                callbacks=[TensorBoard(log_dir='/Users/somrawee/Coding/logs')])"
   ]
  },
  {
   "cell_type": "markdown",
   "metadata": {},
   "source": [
    "plot latent space of test_dataset"
   ]
  },
  {
   "cell_type": "code",
   "execution_count": 10,
   "metadata": {},
   "outputs": [
    {
     "name": "stdout",
     "output_type": "stream",
     "text": [
      "128/313 [===========>..................] - ETA: 0s"
     ]
    },
    {
     "name": "stderr",
     "output_type": "stream",
     "text": [
      "2023-12-14 16:44:16.165081: I tensorflow/core/grappler/optimizers/custom_graph_optimizer_registry.cc:113] Plugin optimizer for device_type GPU is enabled.\n"
     ]
    },
    {
     "name": "stdout",
     "output_type": "stream",
     "text": [
      "313/313 [==============================] - 0s 1ms/step\n"
     ]
    },
    {
     "data": {
      "image/png": "[encoded data removed]",
      "text/plain": [
       "<Figure size 2000x800 with 10 Axes>"
      ]
     },
     "metadata": {},
     "output_type": "display_data"
    }
   ],
   "source": [
    "import matplotlib.pyplot as plt\n",
    "\n",
    "encoder = keras.Model(input_img, encoded)\n",
    "encoded_imgs = encoder.predict(x_test)\n",
    "\n",
    "n = 10\n",
    "plt.figure(figsize=(20, 8))\n",
    "for i in range(1, n + 1):\n",
    "    ax = plt.subplot(1, n, i)\n",
    "    plt.imshow(encoded_imgs[i].reshape((4, 4 * 8)).T)\n",
    "    plt.gray()\n",
    "    ax.get_xaxis().set_visible(False)\n",
    "    ax.get_yaxis().set_visible(False)\n",
    "plt.show()"
   ]
  }
 ],
 "metadata": {
  "kernelspec": {
   "display_name": "tensorflow",
   "language": "python",
   "name": "python3"
  },
  "language_info": {
   "codemirror_mode": {
    "name": "ipython",
    "version": 3
   },
   "file_extension": ".py",
   "mimetype": "text/x-python",
   "name": "python",
   "nbconvert_exporter": "python",
   "pygments_lexer": "ipython3",
   "version": "3.10.9"
  }
 },
 "nbformat": 4,
 "nbformat_minor": 2
}
